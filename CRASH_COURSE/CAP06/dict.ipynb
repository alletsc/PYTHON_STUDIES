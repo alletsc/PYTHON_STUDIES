{
 "cells": [
  {
   "cell_type": "code",
   "execution_count": 1,
   "metadata": {},
   "outputs": [
    {
     "name": "stdout",
     "output_type": "stream",
     "text": [
      "green\n",
      "5\n"
     ]
    }
   ],
   "source": [
    "alien_0 = {'color': 'green', 'points': 5}\n",
    "\n",
    "print(alien_0['color'])\n",
    "print(alien_0['points'])"
   ]
  },
  {
   "cell_type": "code",
   "execution_count": 2,
   "metadata": {},
   "outputs": [
    {
     "name": "stdout",
     "output_type": "stream",
     "text": [
      "You just earned 5 points!\n"
     ]
    }
   ],
   "source": [
    "alien_0 = {'color': 'green', 'points': 5}\n",
    "\n",
    "new_points = alien_0['points']\n",
    "print(f\"You just earned {new_points} points!\")"
   ]
  },
  {
   "cell_type": "code",
   "execution_count": 4,
   "metadata": {},
   "outputs": [
    {
     "name": "stdout",
     "output_type": "stream",
     "text": [
      "{'color': 'green', 'points': 5}\n",
      "{'color': 'green', 'points': 5, 'x_position': 0, 'y_position': 25}\n"
     ]
    }
   ],
   "source": [
    "alien_0 = {'color': 'green', 'points': 5}\n",
    "print(alien_0)\n",
    "\n",
    "alien_0['x_position'] = 0\n",
    "alien_0['y_position'] = 25\n",
    "print(alien_0)"
   ]
  },
  {
   "cell_type": "code",
   "execution_count": 6,
   "metadata": {},
   "outputs": [
    {
     "name": "stdout",
     "output_type": "stream",
     "text": [
      "Original position: 0\n",
      "New position: 2\n"
     ]
    }
   ],
   "source": [
    "\"\"\"Para um exemplo mais interessante, vamos rastrear a posição de um alienígena que pode se mover em diferentes velocidades. Vamos armazenar um valor que representa a velocidade atual do alienígena e, em seguida, usá-lo para determinar até onde o alienígena deve se mover para a direita:\"\"\"\n",
    "\n",
    "alien_0 = {'x_position': 0, 'y_position': 25, 'speed': 'medium'}\n",
    "print(f\"Original position: {alien_0['x_position']}\")\n",
    "\n",
    "# move the alien to the right\n",
    "# determine how far to move the alien based on its current speed\n",
    "if alien_0['speed'] == 'slow':\n",
    "    x_increment = 1\n",
    "elif alien_0['speed'] == 'medium':\n",
    "    x_increment = 2\n",
    "else: # this must be a fast alien\n",
    "    x_increment = 3\n",
    "    \n",
    "# the new position is the old position plus the increment\n",
    "alien_0['x_position'] = alien_0['x_position'] + x_increment\n",
    "print(f\"New position: {alien_0['x_position']}\")"
   ]
  },
  {
   "cell_type": "code",
   "execution_count": 7,
   "metadata": {},
   "outputs": [
    {
     "name": "stdout",
     "output_type": "stream",
     "text": [
      "{'color': 'green', 'points': 5}\n",
      "{'color': 'green'}\n"
     ]
    }
   ],
   "source": [
    "# remove pair from dictionary\n",
    "alien_0 = {'color': 'green', 'points': 5}\n",
    "print(alien_0)\n",
    "\n",
    "del alien_0['points']\n",
    "print(alien_0)"
   ]
  },
  {
   "cell_type": "code",
   "execution_count": 11,
   "metadata": {},
   "outputs": [
    {
     "name": "stdout",
     "output_type": "stream",
     "text": [
      "The favorite language of Stella is Python.\n"
     ]
    }
   ],
   "source": [
    "favorite_languages = {'Stella': 'python',\n",
    "                      'Sergio': 'c',\n",
    "                      'Luis': 'java',\n",
    "                      'Juan': 'python',\n",
    "                      'Maria': 'python',\n",
    "                      'Pedro': 'c++',\n",
    "                      'Jose': 'python',\n",
    "                      'Ana': 'java',\n",
    "                      'Carlos': 'python',\n",
    "                      'Sofia': 'c++',}\n",
    "\n",
    "print(f'The favorite language of Stella is {favorite_languages[\"Stella\"].title()}.')"
   ]
  },
  {
   "cell_type": "code",
   "execution_count": 12,
   "metadata": {},
   "outputs": [
    {
     "ename": "KeyError",
     "evalue": "'teste'",
     "output_type": "error",
     "traceback": [
      "\u001b[1;31m---------------------------------------------------------------------------\u001b[0m",
      "\u001b[1;31mKeyError\u001b[0m                                  Traceback (most recent call last)",
      "Cell \u001b[1;32mIn[12], line 2\u001b[0m\n\u001b[0;32m      1\u001b[0m alien_0 \u001b[39m=\u001b[39m {\u001b[39m'\u001b[39m\u001b[39mcolor\u001b[39m\u001b[39m'\u001b[39m: \u001b[39m'\u001b[39m\u001b[39mgreen\u001b[39m\u001b[39m'\u001b[39m, \u001b[39m'\u001b[39m\u001b[39mpoints\u001b[39m\u001b[39m'\u001b[39m: \u001b[39m5\u001b[39m}\n\u001b[1;32m----> 2\u001b[0m \u001b[39mprint\u001b[39m(alien_0[\u001b[39m'\u001b[39;49m\u001b[39mteste\u001b[39;49m\u001b[39m'\u001b[39;49m])\n",
      "\u001b[1;31mKeyError\u001b[0m: 'teste'"
     ]
    }
   ],
   "source": [
    "alien_0 = {'color': 'green', 'points': 5}\n",
    "print(alien_0['teste'])"
   ]
  },
  {
   "cell_type": "code",
   "execution_count": 13,
   "metadata": {},
   "outputs": [
    {
     "name": "stdout",
     "output_type": "stream",
     "text": [
      "No test value assigned.\n"
     ]
    }
   ],
   "source": [
    "t_value = alien_0.get('test', 'No test value assigned.')\n",
    "print(t_value)"
   ]
  },
  {
   "cell_type": "code",
   "execution_count": 14,
   "metadata": {},
   "outputs": [
    {
     "name": "stdout",
     "output_type": "stream",
     "text": [
      "None\n"
     ]
    }
   ],
   "source": [
    "t_value = alien_0.get('test')\n",
    "print(t_value)"
   ]
  },
  {
   "cell_type": "code",
   "execution_count": 17,
   "metadata": {},
   "outputs": [
    {
     "name": "stdout",
     "output_type": "stream",
     "text": [
      "Stella lives in São Paulo and is 25 years old.\n"
     ]
    }
   ],
   "source": [
    "person = {'name':'Stella', 'age': 25, 'city':'São Paulo'}\n",
    "print(f\"{person['name']} lives in {person['city']} and is {person['age']} years old.\")"
   ]
  },
  {
   "cell_type": "code",
   "execution_count": 22,
   "metadata": {},
   "outputs": [
    {
     "name": "stdout",
     "output_type": "stream",
     "text": [
      "Stella 51\n",
      "Luis 7\n",
      "Juan 15\n",
      "Maria 3\n",
      "Pedro 1\n",
      "Ana 13\n",
      "Carlos 2\n",
      "Sofia 30\n"
     ]
    }
   ],
   "source": [
    "favorite_numbers = {'Stella':51, \n",
    "                    'Luis': 7,\n",
    "                    'Juan': 15,\n",
    "                    'Maria': 3,\n",
    "                    'Pedro': 1,\n",
    "                    'Ana': 13,\n",
    "                    'Carlos': 2,\n",
    "                    'Sofia': 30,}\n",
    "\n",
    "for c in favorite_numbers:\n",
    "    print(c, favorite_numbers[c])"
   ]
  },
  {
   "cell_type": "code",
   "execution_count": 32,
   "metadata": {},
   "outputs": [
    {
     "name": "stdout",
     "output_type": "stream",
     "text": [
      "Token significa --> Um elemento de uma linguagem de programação\n",
      "String significa --> Uma sequência de caracteres\n",
      "Variavel significa --> Um nome que se refere a um valor\n",
      "Comentario significa --> Um texto que o Python ignora\n",
      "Palavra-Chave significa --> Um nome que tem um significado especial na linguagem de programação\n"
     ]
    }
   ],
   "source": [
    "glossario_programacao = {'token': 'Um elemento de uma linguagem de programação',\n",
    "                            'string': 'Uma sequência de caracteres',\n",
    "                            'variavel': 'Um nome que se refere a um valor',\n",
    "                            'comentario': 'Um texto que o Python ignora',\n",
    "                            'palavra-chave': 'Um nome que tem um significado especial na linguagem de programação'}\n",
    "\n",
    "for chave in glossario_programacao:\n",
    "    print(f'{chave.title()} significa --> {glossario_programacao[chave]}')"
   ]
  },
  {
   "cell_type": "code",
   "execution_count": 35,
   "metadata": {},
   "outputs": [
    {
     "name": "stdout",
     "output_type": "stream",
     "text": [
      "\n",
      "Key: username\n",
      "Value: efermi\n",
      "\n",
      "Key: first\n",
      "Value: enrico\n",
      "\n",
      "Key: last\n",
      "Value: fermi\n"
     ]
    }
   ],
   "source": [
    "user_0 = {\n",
    "    'username': 'efermi',\n",
    "    'first': 'enrico',\n",
    "    'last': 'fermi',\n",
    "    }\n",
    "\n",
    "for key, value in user_0.items():\n",
    "    print(f\"\\nKey: {key}\")\n",
    "    print(f\"Value: {value}\")"
   ]
  },
  {
   "cell_type": "code",
   "execution_count": 37,
   "metadata": {},
   "outputs": [
    {
     "name": "stdout",
     "output_type": "stream",
     "text": [
      "Stella's favorite language is Python.\n",
      "Sergio's favorite language is C.\n",
      "Luis's favorite language is Java.\n",
      "Juan's favorite language is Python.\n",
      "Maria's favorite language is Python.\n",
      "Pedro's favorite language is C++.\n",
      "Jose's favorite language is Python.\n",
      "Ana's favorite language is Java.\n",
      "Carlos's favorite language is Python.\n",
      "Sofia's favorite language is C++.\n"
     ]
    }
   ],
   "source": [
    "for name, language in favorite_languages.items():\n",
    "    print(name.title() + \"'s favorite language is \" + language.title() + \".\")"
   ]
  },
  {
   "cell_type": "code",
   "execution_count": 38,
   "metadata": {},
   "outputs": [
    {
     "name": "stdout",
     "output_type": "stream",
     "text": [
      "Stella\n",
      "Sergio\n",
      "Luis\n",
      "Juan\n",
      "Maria\n",
      "Pedro\n",
      "Jose\n",
      "Ana\n",
      "Carlos\n",
      "Sofia\n"
     ]
    }
   ],
   "source": [
    "for name in favorite_languages.keys():\n",
    "    print(name.title())"
   ]
  },
  {
   "cell_type": "code",
   "execution_count": 39,
   "metadata": {},
   "outputs": [
    {
     "name": "stdout",
     "output_type": "stream",
     "text": [
      "Ana, thank you for taking the poll.\n",
      "Carlos, thank you for taking the poll.\n",
      "Jose, thank you for taking the poll.\n",
      "Juan, thank you for taking the poll.\n",
      "Luis, thank you for taking the poll.\n",
      "Maria, thank you for taking the poll.\n",
      "Pedro, thank you for taking the poll.\n",
      "Sergio, thank you for taking the poll.\n",
      "Sofia, thank you for taking the poll.\n",
      "Stella, thank you for taking the poll.\n"
     ]
    }
   ],
   "source": [
    "for name in sorted(favorite_languages.keys()):\n",
    "    print(f\"{name.title()}, thank you for taking the poll.\")"
   ]
  },
  {
   "cell_type": "code",
   "execution_count": 1,
   "metadata": {},
   "outputs": [
    {
     "name": "stdout",
     "output_type": "stream",
     "text": [
      "Erin, please take our poll!\n"
     ]
    }
   ],
   "source": [
    "favorite_languages = {\n",
    "    \n",
    "    }\n",
    "\n",
    "if 'erin' not in favorite_languages.keys():\n",
    "    print(\"Erin, please take our poll!\")"
   ]
  },
  {
   "cell_type": "code",
   "execution_count": 2,
   "metadata": {},
   "outputs": [
    {
     "name": "stdout",
     "output_type": "stream",
     "text": [
      "Edward, thank you for taking the poll.\n",
      "Jen, thank you for taking the poll.\n",
      "Phil, thank you for taking the poll.\n",
      "Sarah, thank you for taking the poll.\n"
     ]
    }
   ],
   "source": [
    "favorite_languages = {\n",
    "    'jen': 'python',\n",
    "    'sarah': 'c',\n",
    "    'edward': 'rust',\n",
    "    'phil': 'python',\n",
    "    }\n",
    "\n",
    "for name in sorted(favorite_languages.keys()):\n",
    "    print(f\"{name.title()}, thank you for taking the poll.\")"
   ]
  },
  {
   "cell_type": "code",
   "execution_count": 5,
   "metadata": {},
   "outputs": [
    {
     "name": "stdout",
     "output_type": "stream",
     "text": [
      "The following languages have been mentioned:\n",
      "Python\n",
      "C\n",
      "Rust\n",
      "Python\n",
      "C++\n",
      "Python\n"
     ]
    }
   ],
   "source": [
    "favorite_languages = {\n",
    "    'jen': 'python',\n",
    "    'sarah': 'c',\n",
    "    'edward': 'rust',\n",
    "    'phil': 'python',\n",
    "    'stella': 'c++',\n",
    "    'jim': 'python',\n",
    "    \n",
    "    }\n",
    "\n",
    "print('The following languages have been mentioned:')\n",
    "for language in favorite_languages.values():\n",
    "    print(language.title())"
   ]
  },
  {
   "cell_type": "code",
   "execution_count": 6,
   "metadata": {},
   "outputs": [
    {
     "name": "stdout",
     "output_type": "stream",
     "text": [
      "The Following languages have been mentioned:\n",
      "C\n",
      "Python\n",
      "C++\n",
      "Rust\n"
     ]
    }
   ],
   "source": [
    "# o metodo acima funcionaria em pequeno dicionario sem repetições para ver se uma chave existe em um grande dicionario com repeticoe é melhor usar o metodo get ou transformar o dicionario em um set\n",
    "# set é uma coleção não ordenada de elementos unicos\n",
    "\n",
    "print('The Following languages have been mentioned:')\n",
    "for language in set(favorite_languages.values()):\n",
    "    print(language.title())"
   ]
  },
  {
   "cell_type": "code",
   "execution_count": 11,
   "metadata": {},
   "outputs": [
    {
     "name": "stdout",
     "output_type": "stream",
     "text": [
      "[{'color': 'green', 'points': 5}, {'color': 'yellow', 'points': 10}, {'color': 'red', 'points': 15}]\n",
      "{'color': 'green', 'points': 5}\n",
      "{'color': 'yellow', 'points': 10}\n",
      "{'color': 'red', 'points': 15}\n"
     ]
    }
   ],
   "source": [
    "alien_0 = {'color': 'green', 'points': 5}\n",
    "alien_1 = {'color': 'yellow', 'points': 10}\n",
    "alien_2 = {'color': 'red', 'points': 15}\n",
    "\n",
    "# list of dictionaries\n",
    "aliens = [alien_0, alien_1, alien_2]\n",
    "print(aliens)\n",
    "\n",
    "for alien in aliens:\n",
    "    print(alien)"
   ]
  },
  {
   "cell_type": "code",
   "execution_count": 14,
   "metadata": {},
   "outputs": [
    {
     "name": "stdout",
     "output_type": "stream",
     "text": [
      "{'color': 'green', 'points': 5, 'speed': 'slow'}\n",
      "{'color': 'green', 'points': 5, 'speed': 'slow'}\n",
      "{'color': 'green', 'points': 5, 'speed': 'slow'}\n",
      "{'color': 'green', 'points': 5, 'speed': 'slow'}\n",
      "{'color': 'green', 'points': 5, 'speed': 'slow'}\n",
      "...\n",
      "Total number of aliens: 30\n"
     ]
    }
   ],
   "source": [
    "aliens = []\n",
    "\n",
    "for alien_number in range(30):\n",
    "    new_alien = {'color': 'green', 'points': 5, 'speed': 'slow'}\n",
    "    aliens.append(new_alien)\n",
    "    \n",
    "for alien in aliens[:5]:\n",
    "    print(alien)\n",
    "print(\"...\")\n",
    "\n",
    "print(f'Total number of aliens: {len(aliens)}')"
   ]
  },
  {
   "cell_type": "code",
   "execution_count": 18,
   "metadata": {},
   "outputs": [
    {
     "name": "stdout",
     "output_type": "stream",
     "text": [
      "{'color': 'yellow', 'points': 10, 'speed': 'medium'}\n",
      "{'color': 'yellow', 'points': 10, 'speed': 'medium'}\n",
      "{'color': 'yellow', 'points': 10, 'speed': 'medium'}\n",
      "{'color': 'green', 'points': 5, 'speed': 'slow'}\n",
      "{'color': 'green', 'points': 5, 'speed': 'slow'}\n"
     ]
    }
   ],
   "source": [
    "aliens = []\n",
    "\n",
    "for alien_number in range(30):\n",
    "    new_alien = {'color': 'green', 'points': 5, 'speed': 'slow'}\n",
    "    aliens.append(new_alien)\n",
    "    \n",
    "for alien in aliens[:3]:\n",
    "    if alien['color'] == 'green':\n",
    "        alien['color'] = 'yellow'\n",
    "        alien['speed'] = 'medium'\n",
    "        alien['points'] = 10\n",
    "    elif alien['color'] == 'yellow':\n",
    "        alien['color'] = 'red'\n",
    "        alien['speed'] = 'fast'\n",
    "        alien['points'] = 15\n",
    "        \n",
    "for alien in aliens[:5]:\n",
    "    print(alien)"
   ]
  },
  {
   "cell_type": "code",
   "execution_count": 22,
   "metadata": {},
   "outputs": [
    {
     "name": "stdout",
     "output_type": "stream",
     "text": [
      "You ordered a thick-crust pizzawith the following toppings:\n",
      "\tmushrooms\n",
      "\textra cheese\n"
     ]
    }
   ],
   "source": [
    "pizza = {\n",
    "    'crust': 'thick',\n",
    "    'toppings': ['mushrooms', 'extra cheese'],\n",
    "}\n",
    "\n",
    "print(f'You ordered a {pizza[\"crust\"]}-crust pizza'\n",
    "      'with the following toppings:')\n",
    "for topping in pizza['toppings']:\n",
    "    print(f'\\t{topping}')"
   ]
  },
  {
   "cell_type": "code",
   "execution_count": 32,
   "metadata": {},
   "outputs": [
    {
     "name": "stdout",
     "output_type": "stream",
     "text": [
      "Jen's favorite language is: ['python'].\n",
      "Sarah's favorite language is: ['c', 'c++'].\n",
      "Edward's favorite language is: ['ruby', 'go'].\n",
      "Phil's favorite language is: ['python', 'haskell'].\n",
      "Jose's favorite language is: ['java', 'scala'].\n",
      "Joao's favorite language is: ['python', 'c#'].\n",
      "\n",
      "Jen's favorite languages are:\n",
      "Python\n",
      "\n",
      "Sarah's favorite languages are:\n",
      "C\n",
      "C++\n",
      "\n",
      "Edward's favorite languages are:\n",
      "Ruby\n",
      "Go\n",
      "\n",
      "Phil's favorite languages are:\n",
      "Python\n",
      "Haskell\n",
      "\n",
      "Jose's favorite languages are:\n",
      "Java\n",
      "Scala\n",
      "\n",
      "Joao's favorite languages are:\n",
      "Python\n",
      "C#\n"
     ]
    }
   ],
   "source": [
    "favorite_languages = {\n",
    "    'jen': ['python'],\n",
    "    'sarah': ['c', 'c++'],\n",
    "    'edward': ['ruby', 'go'],\n",
    "    'phil': ['python', 'haskell'],\n",
    "    'jose': ['java', 'scala'],\n",
    "    'joao': ['python', 'c#'],\n",
    "}\n",
    "\n",
    "for name, language in favorite_languages.items():\n",
    "    print(f\"{name.title()}'s favorite language is: {language}.\") # Note: title method is not atribuite to the list\n",
    "    \n",
    "for name, languages in favorite_languages.items():\n",
    "    print(f\"\\n{name.title()}'s favorite languages are:\")\n",
    "    for language in languages:\n",
    "        print(f\"{language.title()}\")\n",
    "    "
   ]
  },
  {
   "cell_type": "code",
   "execution_count": 33,
   "metadata": {},
   "outputs": [
    {
     "name": "stdout",
     "output_type": "stream",
     "text": [
      "\n",
      "Username: aeinstein\n",
      "\tFull name: Albert Einstein\n",
      "\tLocation: Princeton\n",
      "\n",
      "Username: mcurie\n",
      "\tFull name: Marie Curie\n",
      "\tLocation: Paris\n"
     ]
    }
   ],
   "source": [
    "users = {\n",
    "    'aeinstein': {\n",
    "        'first': 'albert',\n",
    "        'last': 'einstein',\n",
    "        'location': 'princeton',\n",
    "        },\n",
    "\n",
    "    'mcurie': {\n",
    "        'first': 'marie',\n",
    "        'last': 'curie',\n",
    "        'location': 'paris',\n",
    "        },\n",
    "\n",
    "    }\n",
    "\n",
    "for username, user_info in users.items():\n",
    "    print(\"\\nUsername: \" + username)\n",
    "    full_name = user_info['first'] + \" \" + user_info['last']\n",
    "    location = user_info['location']\n",
    "\n",
    "    print(\"\\tFull name: \" + full_name.title())\n",
    "    print(\"\\tLocation: \" + location.title())    "
   ]
  },
  {
   "cell_type": "code",
   "execution_count": 43,
   "metadata": {},
   "outputs": [
    {
     "name": "stdout",
     "output_type": "stream",
     "text": [
      "O nome do animal é Rex \n",
      "E o tipo do animal é: Cão\n",
      "O nome do animal é Miau \n",
      "E o tipo do animal é: Gato\n",
      "O nome do animal é Loro \n",
      "E o tipo do animal é: Papagaio\n"
     ]
    }
   ],
   "source": [
    "animal_1 = {\n",
    "    'tipo': 'cão',\n",
    "    'nome': 'rex',\n",
    "}\n",
    "\n",
    "animal_2 = {\n",
    "    'tipo': 'gato',\n",
    "    'nome': 'miau',\n",
    "}\n",
    "\n",
    "animal_3 = {\n",
    "    'tipo': 'papagaio',\n",
    "    'nome': 'loro',\n",
    "}\n",
    "\n",
    "animais = [animal_1, animal_2, animal_3]\n",
    "\n",
    "for animal in animais:\n",
    "    print(f'O nome do animal é {animal[\"nome\"].title()} \\nE o tipo do animal é: {animal[\"tipo\"].title()}')"
   ]
  },
  {
   "cell_type": "code",
   "execution_count": 45,
   "metadata": {},
   "outputs": [
    {
     "name": "stdout",
     "output_type": "stream",
     "text": [
      "Jose's favorite places are:\n",
      "\tParis\n",
      "\tLondon\n",
      "\tTokyo\n",
      "Maria's favorite places are:\n",
      "\tNew York\n",
      "\tTokyo\n",
      "\tLondon\n",
      "Pedro's favorite places are:\n",
      "\tTokyo\n",
      "\tLondon\n",
      "\tParis\n"
     ]
    }
   ],
   "source": [
    "favorite_places = {\n",
    "    'jose': ['paris', 'london', 'tokyo'],\n",
    "    'maria': ['new york', 'tokyo', 'london'],\n",
    "    'pedro': ['tokyo', 'london', 'paris'],\n",
    "}\n",
    "\n",
    "for name, places in favorite_places.items():\n",
    "    print(f\"{name.title()}'s favorite places are:\")\n",
    "    for place in places:\n",
    "        print(f\"\\t{place.title()}\")"
   ]
  },
  {
   "cell_type": "code",
   "execution_count": 58,
   "metadata": {},
   "outputs": [
    {
     "name": "stdout",
     "output_type": "stream",
     "text": [
      "\n",
      "Cidade: Rio de Janeiro\n",
      "\tCountry: Brasil\n",
      "\tPopulation: 6718903\n",
      "\tFact: É conhecido mundialmente pelo Cristo Redentor.\n",
      "\n",
      "Cidade: Paris\n",
      "\tCountry: França\n",
      "\tPopulation: 2140526\n",
      "\tFact: É frequentemente chamada de 'Cidade Luz'.\n",
      "\n",
      "Cidade: Tokyo\n",
      "\tCountry: Japão\n",
      "\tPopulation: 13929286\n",
      "\tFact: É a cidade mais populosa do mundo.\n"
     ]
    }
   ],
   "source": [
    "cities = {\n",
    "    \"Rio de Janeiro\": {\n",
    "        \"country\": \"Brasil\",\n",
    "        \"population\": 6718903,\n",
    "        \"fact\": \"É conhecido mundialmente pelo Cristo Redentor.\"\n",
    "    },\n",
    "    \"Paris\": {\n",
    "        \"country\": \"França\",\n",
    "        \"population\": 2140526,\n",
    "        \"fact\": \"É frequentemente chamada de 'Cidade Luz'.\"\n",
    "    },\n",
    "    \"Tokyo\": {\n",
    "        \"country\": \"Japão\",\n",
    "        \"population\": 13929286,\n",
    "        \"fact\": \"É a cidade mais populosa do mundo.\"\n",
    "    }\n",
    "}\n",
    "\n",
    "for city, detaisl in cities.items():\n",
    "    print(f\"\\nCidade: {city}\")\n",
    "    for key, value in detaisl.items():\n",
    "        print(f\"\\t{key.title()}: {value}\")\n"
   ]
  }
 ],
 "metadata": {
  "kernelspec": {
   "display_name": "venv",
   "language": "python",
   "name": "python3"
  },
  "language_info": {
   "codemirror_mode": {
    "name": "ipython",
    "version": 3
   },
   "file_extension": ".py",
   "mimetype": "text/x-python",
   "name": "python",
   "nbconvert_exporter": "python",
   "pygments_lexer": "ipython3",
   "version": "3.11.4"
  },
  "orig_nbformat": 4
 },
 "nbformat": 4,
 "nbformat_minor": 2
}
