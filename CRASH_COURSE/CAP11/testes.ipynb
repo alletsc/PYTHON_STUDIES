{
 "cells": [
  {
   "cell_type": "code",
   "execution_count": 4,
   "metadata": {},
   "outputs": [],
   "source": [
    "from name_function import *"
   ]
  },
  {
   "cell_type": "code",
   "execution_count": 5,
   "metadata": {},
   "outputs": [
    {
     "name": "stdout",
     "output_type": "stream",
     "text": [
      "Enter  q to quit\n",
      "\tNeatly formatted name: Stella Costa.\n"
     ]
    }
   ],
   "source": [
    "print('Enter  q to quit')\n",
    "while True:\n",
    "    first = input('\\nPlease give me a first name: ')\n",
    "    if first == 'q':\n",
    "        break\n",
    "    last = input('Please give me a last name: ')\n",
    "    if last == 'q':\n",
    "        break\n",
    "    formatted_name = get_formatted_name(first, last)\n",
    "    print(f'\\tNeatly formatted name: {formatted_name}.')"
   ]
  }
 ],
 "metadata": {
  "kernelspec": {
   "display_name": "venv",
   "language": "python",
   "name": "python3"
  },
  "language_info": {
   "codemirror_mode": {
    "name": "ipython",
    "version": 3
   },
   "file_extension": ".py",
   "mimetype": "text/x-python",
   "name": "python",
   "nbconvert_exporter": "python",
   "pygments_lexer": "ipython3",
   "version": "3.11.4"
  },
  "orig_nbformat": 4
 },
 "nbformat": 4,
 "nbformat_minor": 2
}
