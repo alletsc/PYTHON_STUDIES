{
 "cells": [
  {
   "cell_type": "code",
   "execution_count": 1,
   "metadata": {},
   "outputs": [
    {
     "name": "stdout",
     "output_type": "stream",
     "text": [
      "200\n",
      "50\n"
     ]
    }
   ],
   "source": [
    "dimensions = (200, 50)\n",
    "print(dimensions[0])\n",
    "print(dimensions[1])"
   ]
  },
  {
   "cell_type": "code",
   "execution_count": 2,
   "metadata": {},
   "outputs": [
    {
     "ename": "TypeError",
     "evalue": "'tuple' object does not support item assignment",
     "output_type": "error",
     "traceback": [
      "\u001b[1;31m---------------------------------------------------------------------------\u001b[0m",
      "\u001b[1;31mTypeError\u001b[0m                                 Traceback (most recent call last)",
      "Cell \u001b[1;32mIn[2], line 2\u001b[0m\n\u001b[0;32m      1\u001b[0m dimensions \u001b[39m=\u001b[39m (\u001b[39m200\u001b[39m, \u001b[39m50\u001b[39m)\n\u001b[1;32m----> 2\u001b[0m dimensions[\u001b[39m0\u001b[39;49m] \u001b[39m=\u001b[39m \u001b[39m250\u001b[39m\n",
      "\u001b[1;31mTypeError\u001b[0m: 'tuple' object does not support item assignment"
     ]
    }
   ],
   "source": [
    "dimensions = (200, 50)\n",
    "dimensions[0] = 250"
   ]
  },
  {
   "cell_type": "code",
   "execution_count": 5,
   "metadata": {},
   "outputs": [
    {
     "ename": "TypeError",
     "evalue": "'tuple' object does not support item assignment",
     "output_type": "error",
     "traceback": [
      "\u001b[1;31m---------------------------------------------------------------------------\u001b[0m",
      "\u001b[1;31mTypeError\u001b[0m                                 Traceback (most recent call last)",
      "Cell \u001b[1;32mIn[5], line 4\u001b[0m\n\u001b[0;32m      1\u001b[0m \u001b[39m# Tuplas são tecnicamente definidas pelo uso de ',' os parênteses são opcionais e fazem com que o código fique mais legível\u001b[39;00m\n\u001b[0;32m      3\u001b[0m tupla1 \u001b[39m=\u001b[39m \u001b[39m1\u001b[39m,\u001b[39m2\u001b[39m,\u001b[39m4\u001b[39m,\u001b[39m5\u001b[39m,\u001b[39m6\u001b[39m\n\u001b[1;32m----> 4\u001b[0m tupla1[\u001b[39m1\u001b[39;49m] \u001b[39m=\u001b[39m \u001b[39m3\u001b[39m \u001b[39m# Erro, tuplas são imutáveis\u001b[39;00m\n\u001b[0;32m      5\u001b[0m \u001b[39mprint\u001b[39m(tupla1)\n",
      "\u001b[1;31mTypeError\u001b[0m: 'tuple' object does not support item assignment"
     ]
    }
   ],
   "source": [
    "# Tuplas são tecnicamente definidas pelo uso de ',' os parênteses são opcionais e fazem com que o código fique mais legível\n",
    "\n",
    "tupla1 = 1,2,4,5,6\n",
    "tupla1[1] = 3 # Erro, tuplas são imutáveis\n",
    "print(tupla1)"
   ]
  },
  {
   "cell_type": "code",
   "execution_count": 6,
   "metadata": {},
   "outputs": [
    {
     "name": "stdout",
     "output_type": "stream",
     "text": [
      "200\n",
      "50\n"
     ]
    }
   ],
   "source": [
    "dimensions = (200, 50)\n",
    "for dimension in dimensions:\n",
    "    print(dimension)"
   ]
  },
  {
   "cell_type": "code",
   "execution_count": 7,
   "metadata": {},
   "outputs": [
    {
     "name": "stdout",
     "output_type": "stream",
     "text": [
      "McDonalds\n",
      "Burger King\n",
      "Pizza Hut\n",
      "Subway\n"
     ]
    }
   ],
   "source": [
    "restaurant = ('McDonalds', 'Burger King', 'Pizza Hut', 'Subway')\n",
    "for c in restaurant:\n",
    "    print(c)"
   ]
  },
  {
   "cell_type": "code",
   "execution_count": 9,
   "metadata": {},
   "outputs": [
    {
     "name": "stdout",
     "output_type": "stream",
     "text": [
      "TypeError: 'tuple' object does not support item assignment\n"
     ]
    }
   ],
   "source": [
    "try:\n",
    "    restaurant[0] = 'Burger King'\n",
    "except TypeError:\n",
    "    print('TypeError: \\'tuple\\' object does not support item assignment')"
   ]
  },
  {
   "cell_type": "code",
   "execution_count": null,
   "metadata": {},
   "outputs": [],
   "source": []
  }
 ],
 "metadata": {
  "kernelspec": {
   "display_name": "venv",
   "language": "python",
   "name": "python3"
  },
  "language_info": {
   "codemirror_mode": {
    "name": "ipython",
    "version": 3
   },
   "file_extension": ".py",
   "mimetype": "text/x-python",
   "name": "python",
   "nbconvert_exporter": "python",
   "pygments_lexer": "ipython3",
   "version": "3.11.4"
  },
  "orig_nbformat": 4
 },
 "nbformat": 4,
 "nbformat_minor": 2
}
