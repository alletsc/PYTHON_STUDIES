{
 "cells": [
  {
   "cell_type": "code",
   "execution_count": 2,
   "metadata": {},
   "outputs": [],
   "source": [
    "class Cao:\n",
    "    \"Uma classe simples de um cachorro\"\n",
    "    \n",
    "    def __init__(self, nome, idade):\n",
    "        \"\"\" Inicializa os atributos nome e idade.\"\"\"\n",
    "        self.nome = nome\n",
    "        self.idade = idade\n",
    "        \n",
    "    def sentar(self):\n",
    "        \"\"\"Simula um cachorro sentando em resposta a um comando.\"\"\"\n",
    "        print(self.nome.title() + \" está sentado.\")\n",
    "        \n",
    "    def rolar(self):\n",
    "        \"\"\"Simula um cachorro rolando em resposta a um comando.\"\"\"\n",
    "        print(self.nome.title() + \" está rolando.\")\n",
    "        \n",
    "    def latir(self):\n",
    "        \"\"\"Simula um cachorro latindo em resposta a um comando.\"\"\"\n",
    "        print(self.nome.title() + \" está latindo.\")"
   ]
  },
  {
   "cell_type": "code",
   "execution_count": 4,
   "metadata": {},
   "outputs": [
    {
     "name": "stdout",
     "output_type": "stream",
     "text": [
      "Rex\n",
      "3\n",
      "My dog is Rex and he is 3 years old.\n"
     ]
    }
   ],
   "source": [
    "my_dog = Cao('Rex', 3)\n",
    "print(my_dog.nome)\n",
    "print(my_dog.idade)\n",
    "print(f'My dog is {my_dog.nome} and he is {my_dog.idade} years old.')"
   ]
  },
  {
   "cell_type": "code",
   "execution_count": 5,
   "metadata": {},
   "outputs": [
    {
     "name": "stdout",
     "output_type": "stream",
     "text": [
      "Rex está rolando.\n"
     ]
    }
   ],
   "source": [
    "my_dog.rolar()"
   ]
  },
  {
   "cell_type": "code",
   "execution_count": 6,
   "metadata": {},
   "outputs": [
    {
     "name": "stdout",
     "output_type": "stream",
     "text": [
      "Rex está sentado.\n"
     ]
    }
   ],
   "source": [
    "my_dog.sentar()"
   ]
  },
  {
   "cell_type": "code",
   "execution_count": 12,
   "metadata": {},
   "outputs": [
    {
     "name": "stdout",
     "output_type": "stream",
     "text": [
      "The Fat Cow\n",
      "American\n",
      "The Fat Cow serves American food.\n",
      "The Fat Cow is open!\n"
     ]
    }
   ],
   "source": [
    "class Restaurant:\n",
    "    def __init__(self, name, cuisine_type):\n",
    "        self.name = name\n",
    "        self.cuisine_type = cuisine_type\n",
    "        \n",
    "    def describe_restaurant(self):\n",
    "        print(f'{self.name} serves {self.cuisine_type} food.')\n",
    "        \n",
    "    def open_restaurant(self):\n",
    "        print(f'{self.name} is open!')\n",
    "        \n",
    "restaurant = Restaurant('The Fat Cow', 'American')\n",
    "print(restaurant.name)\n",
    "\n",
    "print(restaurant.cuisine_type)\n",
    "\n",
    "restaurant.describe_restaurant()\n",
    "restaurant.open_restaurant()"
   ]
  },
  {
   "cell_type": "code",
   "execution_count": 13,
   "metadata": {},
   "outputs": [
    {
     "name": "stdout",
     "output_type": "stream",
     "text": [
      "Tenho dois restaurantes novos: La Casona e Barbacoa\n",
      "Os dois são do tipo Mexicana e Brasilera\n"
     ]
    }
   ],
   "source": [
    "restaurant2 = Restaurant('La Casona', 'Mexicana')\n",
    "restaurant3 = Restaurant('Barbacoa', 'Brasilera')\n",
    "\n",
    "print(f'Tenho dois restaurantes novos: {restaurant2.name} e {restaurant3.name}')\n",
    "print(f'Os dois são do tipo {restaurant2.cuisine_type} e {restaurant3.cuisine_type}')"
   ]
  },
  {
   "cell_type": "code",
   "execution_count": 18,
   "metadata": {},
   "outputs": [
    {
     "name": "stdout",
     "output_type": "stream",
     "text": [
      "John Doe\n",
      "Doe\n",
      "John Doe is 30 years old.\n"
     ]
    }
   ],
   "source": [
    "class Users:\n",
    "    def __init__(self, name, age):\n",
    "        self.name = name\n",
    "        self.age = age\n",
    "        \n",
    "    def last_name(self):\n",
    "        return self.name.split()[-1]\n",
    "    \n",
    "    def describe_user(self):\n",
    "        print(f'{self.name} is {self.age} years old.')\n",
    "        \n",
    "    def greet_user(self):\n",
    "        print(f'Hello, {self.name}!')\n",
    "        \n",
    "        \n",
    "user1 = Users('John Doe', 30)\n",
    "print(user1.name)\n",
    "print(user1.last_name())\n",
    "user1.describe_user()"
   ]
  },
  {
   "cell_type": "code",
   "execution_count": 26,
   "metadata": {},
   "outputs": [
    {
     "name": "stdout",
     "output_type": "stream",
     "text": [
      "2019 Audi A4\n",
      "Este carro tem 23 milhas percorridas.\n"
     ]
    }
   ],
   "source": [
    "class Car:\n",
    "    \"Uma simples tentativa de representar um carro\"\n",
    "    \n",
    "    def __init__(self, make, model, year):\n",
    "        \"Inicializa os atributos que descrevem um carro\"\n",
    "        self.make = make\n",
    "        self.model = model\n",
    "        self.year = year\n",
    "        self.odometer_reading = 0\n",
    "        \n",
    "    def get_descriptive_name(self):\n",
    "        \"Devolve um nome descritivo, formatado de modo elegante\"\n",
    "        long_name = f\"{self.year} {self.make} {self.model}\"\n",
    "        return long_name.title()\n",
    "    \n",
    "    def read_odometer(self):\n",
    "        \"Exibe uma frase que mostra a milhagem do carro\"\n",
    "        print(f\"Este carro tem {self.odometer_reading} milhas percorridas.\")\n",
    "        \n",
    "    def update_odometer(self, mileage):\n",
    "        if mileage >= self.odometer_reading:\n",
    "            self.odometer_reading = mileage\n",
    "        else:\n",
    "            print(\"Você não pode diminuir a quilometragem do carro!\")    \n",
    "    \n",
    "my_car = Car('audi', 'a4', 2019)\n",
    "print(my_car.get_descriptive_name())\n",
    "my_car.odometer_reading = 23\n",
    "my_car.read_odometer()\n"
   ]
  },
  {
   "cell_type": "code",
   "execution_count": 27,
   "metadata": {},
   "outputs": [
    {
     "name": "stdout",
     "output_type": "stream",
     "text": [
      "Este carro tem 34 milhas percorridas.\n"
     ]
    }
   ],
   "source": [
    "my_car.update_odometer(34)\n",
    "my_car.read_odometer()"
   ]
  },
  {
   "cell_type": "code",
   "execution_count": 28,
   "metadata": {},
   "outputs": [
    {
     "name": "stdout",
     "output_type": "stream",
     "text": [
      "Você não pode diminuir a quilometragem do carro!\n",
      "Este carro tem 34 milhas percorridas.\n"
     ]
    }
   ],
   "source": [
    "my_car.update_odometer(23)\n",
    "my_car.read_odometer()"
   ]
  },
  {
   "cell_type": "code",
   "execution_count": 32,
   "metadata": {},
   "outputs": [
    {
     "name": "stdout",
     "output_type": "stream",
     "text": [
      "2019 Tesla Model S\n",
      "This car has a 75-kWh battery.\n"
     ]
    }
   ],
   "source": [
    "# Nem sempre você precisa começar do zero ao escrever uma class. Se a classe que você está escrevendo for uma versão especializada de outra classe que você escreveu, você pode usar herança\n",
    "\n",
    "class Car:\n",
    "    \"\"\"A simple attempt to represent a car.\"\"\"\n",
    "\n",
    "    def __init__(self, make, model, year):\n",
    "        \"\"\"Initialize attributes to describe a car.\"\"\"\n",
    "        self.make = make\n",
    "        self.model = model\n",
    "        self.year = year\n",
    "        self.odometer_reading = 0\n",
    "\n",
    "    def get_descriptive_name(self):\n",
    "        \"\"\"Return a neatly formatted descriptive name.\"\"\"\n",
    "        long_name = f\"{self.year} {self.make} {self.model}\"\n",
    "        return long_name.title()\n",
    "\n",
    "    def read_odometer(self):\n",
    "        \"\"\"Print a statement showing the car's mileage.\"\"\"\n",
    "        print(f\"This car has {self.odometer_reading} miles on it.\")\n",
    "\n",
    "    def update_odometer(self, mileage):\n",
    "        \"\"\"Set the odometer reading to the given value.\"\"\"\n",
    "        if mileage >= self.odometer_reading:\n",
    "            self.odometer_reading = mileage\n",
    "        else:\n",
    "            print(\"You can't roll back an odometer!\")\n",
    "\n",
    "    def increment_odometer(self, miles):\n",
    "        \"\"\"Add the given amount to the odometer reading.\"\"\"\n",
    "        self.odometer_reading += miles\n",
    "        \n",
    "class EletricCar(Car):\n",
    "    \"\"\"Representa aspectos de um carro específicos de veículos elétricos.\"\"\"\n",
    "    \n",
    "    def __init__(self, make, model, year):\n",
    "        \"\"\"Inicializa os atributos da classe-pai.\"\"\"\n",
    "        super().__init__(make, model, year)\n",
    "        self.battery_size = 75\n",
    "        \n",
    "    def describe_battery(self):\n",
    "        \"\"\"Exibe uma frase que descreve a capacidade da bateria.\"\"\"\n",
    "        print(f\"This car has a {self.battery_size}-kWh battery.\")\n",
    "    \n",
    "    \n",
    "        \n",
    "        \n",
    "        \n",
    "        \n",
    "        \n",
    "        \n",
    "my_tesla = EletricCar('tesla', 'model s', 2019)\n",
    "print(my_tesla.get_descriptive_name())\n",
    "my_tesla.describe_battery()"
   ]
  }
 ],
 "metadata": {
  "kernelspec": {
   "display_name": "venv",
   "language": "python",
   "name": "python3"
  },
  "language_info": {
   "codemirror_mode": {
    "name": "ipython",
    "version": 3
   },
   "file_extension": ".py",
   "mimetype": "text/x-python",
   "name": "python",
   "nbconvert_exporter": "python",
   "pygments_lexer": "ipython3",
   "version": "3.11.4"
  },
  "orig_nbformat": 4
 },
 "nbformat": 4,
 "nbformat_minor": 2
}
